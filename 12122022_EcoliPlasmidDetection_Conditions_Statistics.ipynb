{
 "cells": [
  {
   "cell_type": "code",
   "execution_count": 1,
   "id": "1590fa31",
   "metadata": {},
   "outputs": [],
   "source": [
    "import pandas as pd\n",
    "import numpy as np\n",
    "import statsmodels.formula.api as smf #https://anaconda.org/anaconda/statsmodels\n",
    "import statsmodels.api as sm #https://scikit-posthocs.readthedocs.io/en/latest/installation/\n",
    "import scikit_posthocs as sp\n",
    "import seaborn as sns"
   ]
  },
  {
   "cell_type": "code",
   "execution_count": 2,
   "id": "3418b037",
   "metadata": {},
   "outputs": [],
   "source": [
    "mobsuitePP = pd.read_csv(\"/home/haley/Desktop/Complete_Assemblies_Plasmid/12122022_EcoliPlasmidDetection_isolates_crosstab_mobsuite_analysisfriendly_PP.csv\")\n",
    "mobsuitenoPP = pd. read_csv(\"/home/haley/Desktop/Complete_Assemblies_Plasmid/12122022_EcoliPlasmidDetection_isolates_crosstab_mobsuite_analysisfriendly_no_PP.csv\")"
   ]
  },
  {
   "cell_type": "code",
   "execution_count": 3,
   "id": "4f997a28",
   "metadata": {},
   "outputs": [
    {
     "data": {
      "text/html": [
       "<div>\n",
       "<style scoped>\n",
       "    .dataframe tbody tr th:only-of-type {\n",
       "        vertical-align: middle;\n",
       "    }\n",
       "\n",
       "    .dataframe tbody tr th {\n",
       "        vertical-align: top;\n",
       "    }\n",
       "\n",
       "    .dataframe thead th {\n",
       "        text-align: right;\n",
       "    }\n",
       "</style>\n",
       "<table border=\"1\" class=\"dataframe\">\n",
       "  <thead>\n",
       "    <tr style=\"text-align: right;\">\n",
       "      <th></th>\n",
       "      <th>Hybrid_p</th>\n",
       "      <th>Long_Read_p</th>\n",
       "    </tr>\n",
       "  </thead>\n",
       "  <tbody>\n",
       "    <tr>\n",
       "      <th>C(Sequencing_Kit)</th>\n",
       "      <td>0.679739</td>\n",
       "      <td>0.583494</td>\n",
       "    </tr>\n",
       "  </tbody>\n",
       "</table>\n",
       "</div>"
      ],
      "text/plain": [
       "                   Hybrid_p  Long_Read_p\n",
       "C(Sequencing_Kit)  0.679739     0.583494"
      ]
     },
     "execution_count": 3,
     "metadata": {},
     "output_type": "execute_result"
    }
   ],
   "source": [
    "#One way ANOVA for impact of Sequencing condition on total plasmids in each assembly type\n",
    "results = []\n",
    "#'source' is AMR, GI, phage, etc....\n",
    "for AT in mobsuitenoPP['Assembly_Type'].unique():\n",
    "    #make the model\n",
    "    model = smf.ols('Corrected_Total_Plasmids ~ C(Sequencing_Kit)', data=mobsuitenoPP[mobsuitenoPP['Assembly_Type']==AT]).fit()\n",
    "    #calculate anova. We use type 3 SS in this paper.\n",
    "    d = sm.stats.anova_lm(model, typ=3)\n",
    "    # We only care about the F statistic in this case. grab it.\n",
    "    d = d[['PR(>F)']]\n",
    "    d.rename({'PR(>F)': \"{}_p\".format(AT)}, axis=1, inplace=True)\n",
    "    results.append(d)\n",
    "#Compile the results into one dataframe\n",
    "all_r = results[0]\n",
    "for d in results[1:]:\n",
    "    all_r = all_r.join(d)\n",
    "all_r = all_r.dropna().iloc[1:].dropna()[['Hybrid_p', 'Long_Read_p']]\n",
    "all_r\n"
   ]
  },
  {
   "cell_type": "code",
   "execution_count": 4,
   "id": "72b87def",
   "metadata": {},
   "outputs": [
    {
     "data": {
      "text/html": [
       "<div>\n",
       "<style scoped>\n",
       "    .dataframe tbody tr th:only-of-type {\n",
       "        vertical-align: middle;\n",
       "    }\n",
       "\n",
       "    .dataframe tbody tr th {\n",
       "        vertical-align: top;\n",
       "    }\n",
       "\n",
       "    .dataframe thead th {\n",
       "        text-align: right;\n",
       "    }\n",
       "</style>\n",
       "<table border=\"1\" class=\"dataframe\">\n",
       "  <thead>\n",
       "    <tr style=\"text-align: right;\">\n",
       "      <th></th>\n",
       "      <th>Feature</th>\n",
       "      <th>query</th>\n",
       "      <th>subject</th>\n",
       "      <th>P</th>\n",
       "    </tr>\n",
       "  </thead>\n",
       "  <tbody>\n",
       "    <tr>\n",
       "      <th>0</th>\n",
       "      <td>Hybrid</td>\n",
       "      <td>Ligation</td>\n",
       "      <td>Ligation</td>\n",
       "      <td>1.000000</td>\n",
       "    </tr>\n",
       "    <tr>\n",
       "      <th>1</th>\n",
       "      <td>Hybrid</td>\n",
       "      <td>Ligation</td>\n",
       "      <td>Rapid</td>\n",
       "      <td>0.679739</td>\n",
       "    </tr>\n",
       "    <tr>\n",
       "      <th>2</th>\n",
       "      <td>Hybrid</td>\n",
       "      <td>Rapid</td>\n",
       "      <td>Ligation</td>\n",
       "      <td>0.679739</td>\n",
       "    </tr>\n",
       "    <tr>\n",
       "      <th>3</th>\n",
       "      <td>Hybrid</td>\n",
       "      <td>Rapid</td>\n",
       "      <td>Rapid</td>\n",
       "      <td>1.000000</td>\n",
       "    </tr>\n",
       "    <tr>\n",
       "      <th>4</th>\n",
       "      <td>Long_Read</td>\n",
       "      <td>Ligation</td>\n",
       "      <td>Ligation</td>\n",
       "      <td>1.000000</td>\n",
       "    </tr>\n",
       "  </tbody>\n",
       "</table>\n",
       "</div>"
      ],
      "text/plain": [
       "     Feature     query   subject         P\n",
       "0     Hybrid  Ligation  Ligation  1.000000\n",
       "1     Hybrid  Ligation     Rapid  0.679739\n",
       "2     Hybrid     Rapid  Ligation  0.679739\n",
       "3     Hybrid     Rapid     Rapid  1.000000\n",
       "4  Long_Read  Ligation  Ligation  1.000000"
      ]
     },
     "execution_count": 4,
     "metadata": {},
     "output_type": "execute_result"
    }
   ],
   "source": [
    "records = []\n",
    "for AT in mobsuitenoPP['Assembly_Type'].unique(): #AMR, HMR, plasmid, etc...\n",
    "    # this calculates adjusted p value\n",
    "    d = sp.posthoc_ttest(mobsuitenoPP[mobsuitenoPP['Assembly_Type']==AT],\n",
    "                 val_col='Corrected_Total_Plasmids',\n",
    "                 group_col='Sequencing_Kit',\n",
    "                 p_adjust='bonferroni')\n",
    "    #Format the result into a dict\n",
    "    for i in d.index:\n",
    "        for j in d.columns:\n",
    "            records.append({'Feature': AT, 'query': i, 'subject': j, 'P': d.loc[i][j]})\n",
    "ttests = pd.DataFrame.from_records(records)\n",
    "ttests.head()"
   ]
  },
  {
   "cell_type": "code",
   "execution_count": 5,
   "id": "596ea206",
   "metadata": {},
   "outputs": [],
   "source": [
    "ttests.to_csv(\"12122022_EcoliPlasmidDetection_PlasmidsvsSequencingKitbyAssembly_Type_ttests.csv\")"
   ]
  },
  {
   "cell_type": "code",
   "execution_count": 6,
   "id": "ffe10da3",
   "metadata": {},
   "outputs": [
    {
     "data": {
      "text/html": [
       "<div>\n",
       "<style scoped>\n",
       "    .dataframe tbody tr th:only-of-type {\n",
       "        vertical-align: middle;\n",
       "    }\n",
       "\n",
       "    .dataframe tbody tr th {\n",
       "        vertical-align: top;\n",
       "    }\n",
       "\n",
       "    .dataframe thead th {\n",
       "        text-align: right;\n",
       "    }\n",
       "</style>\n",
       "<table border=\"1\" class=\"dataframe\">\n",
       "  <thead>\n",
       "    <tr style=\"text-align: right;\">\n",
       "      <th></th>\n",
       "      <th>Hybrid_p</th>\n",
       "      <th>Long_Read_p</th>\n",
       "    </tr>\n",
       "  </thead>\n",
       "  <tbody>\n",
       "    <tr>\n",
       "      <th>C(Filtering)</th>\n",
       "      <td>0.934235</td>\n",
       "      <td>0.058108</td>\n",
       "    </tr>\n",
       "  </tbody>\n",
       "</table>\n",
       "</div>"
      ],
      "text/plain": [
       "              Hybrid_p  Long_Read_p\n",
       "C(Filtering)  0.934235     0.058108"
      ]
     },
     "execution_count": 6,
     "metadata": {},
     "output_type": "execute_result"
    }
   ],
   "source": [
    "# One way ANOVA to see impact of assembly condition on total number of plasmid clusters detected in both assembly types\n",
    "results = []\n",
    "#'source' is AMR, GI, phage, etc....\n",
    "for AT in mobsuitenoPP['Assembly_Type'].unique():\n",
    "    #make the model\n",
    "    model = smf.ols('Corrected_Total_Plasmids ~ C(Filtering)', data=mobsuitenoPP[mobsuitenoPP['Assembly_Type']==AT]).fit()\n",
    "    #calculate anova. We use type 3 SS in this paper.\n",
    "    d = sm.stats.anova_lm(model, typ=3)\n",
    "    # We only care about the F statistic in this case. grab it.\n",
    "    d = d[['PR(>F)']]\n",
    "    d.rename({'PR(>F)': \"{}_p\".format(AT)}, axis=1, inplace=True)\n",
    "    results.append(d)\n",
    "#Compile the results into one dataframe\n",
    "all_r = results[0]\n",
    "for d in results[1:]:\n",
    "    all_r = all_r.join(d)\n",
    "all_r = all_r.dropna().iloc[1:].dropna()[['Hybrid_p', 'Long_Read_p']]\n",
    "all_r"
   ]
  },
  {
   "cell_type": "code",
   "execution_count": 7,
   "id": "03b665b3",
   "metadata": {},
   "outputs": [
    {
     "data": {
      "text/html": [
       "<div>\n",
       "<style scoped>\n",
       "    .dataframe tbody tr th:only-of-type {\n",
       "        vertical-align: middle;\n",
       "    }\n",
       "\n",
       "    .dataframe tbody tr th {\n",
       "        vertical-align: top;\n",
       "    }\n",
       "\n",
       "    .dataframe thead th {\n",
       "        text-align: right;\n",
       "    }\n",
       "</style>\n",
       "<table border=\"1\" class=\"dataframe\">\n",
       "  <thead>\n",
       "    <tr style=\"text-align: right;\">\n",
       "      <th></th>\n",
       "      <th>Feature</th>\n",
       "      <th>query</th>\n",
       "      <th>subject</th>\n",
       "      <th>P</th>\n",
       "    </tr>\n",
       "  </thead>\n",
       "  <tbody>\n",
       "    <tr>\n",
       "      <th>0</th>\n",
       "      <td>Hybrid</td>\n",
       "      <td>Filtered</td>\n",
       "      <td>Filtered</td>\n",
       "      <td>1.000000</td>\n",
       "    </tr>\n",
       "    <tr>\n",
       "      <th>1</th>\n",
       "      <td>Hybrid</td>\n",
       "      <td>Filtered</td>\n",
       "      <td>Unfiltered</td>\n",
       "      <td>0.934235</td>\n",
       "    </tr>\n",
       "    <tr>\n",
       "      <th>2</th>\n",
       "      <td>Hybrid</td>\n",
       "      <td>Unfiltered</td>\n",
       "      <td>Filtered</td>\n",
       "      <td>0.934235</td>\n",
       "    </tr>\n",
       "    <tr>\n",
       "      <th>3</th>\n",
       "      <td>Hybrid</td>\n",
       "      <td>Unfiltered</td>\n",
       "      <td>Unfiltered</td>\n",
       "      <td>1.000000</td>\n",
       "    </tr>\n",
       "    <tr>\n",
       "      <th>4</th>\n",
       "      <td>Long_Read</td>\n",
       "      <td>Filtered</td>\n",
       "      <td>Filtered</td>\n",
       "      <td>1.000000</td>\n",
       "    </tr>\n",
       "  </tbody>\n",
       "</table>\n",
       "</div>"
      ],
      "text/plain": [
       "     Feature       query     subject         P\n",
       "0     Hybrid    Filtered    Filtered  1.000000\n",
       "1     Hybrid    Filtered  Unfiltered  0.934235\n",
       "2     Hybrid  Unfiltered    Filtered  0.934235\n",
       "3     Hybrid  Unfiltered  Unfiltered  1.000000\n",
       "4  Long_Read    Filtered    Filtered  1.000000"
      ]
     },
     "execution_count": 7,
     "metadata": {},
     "output_type": "execute_result"
    }
   ],
   "source": [
    "records = []\n",
    "for AT in mobsuitenoPP['Assembly_Type'].unique(): #AMR, HMR, plasmid, etc...\n",
    "    # this calculates adjusted p value\n",
    "    d = sp.posthoc_ttest(mobsuitenoPP[mobsuitenoPP['Assembly_Type']==AT],\n",
    "                 val_col='Corrected_Total_Plasmids',\n",
    "                 group_col='Filtering',\n",
    "                 p_adjust='bonferroni')\n",
    "    #Format the result into a dict\n",
    "    for i in d.index:\n",
    "        for j in d.columns:\n",
    "            records.append({'Feature': AT, 'query': i, 'subject': j, 'P': d.loc[i][j]})\n",
    "ttests = pd.DataFrame.from_records(records)\n",
    "ttests.head()"
   ]
  },
  {
   "cell_type": "code",
   "execution_count": 8,
   "id": "c81987e3",
   "metadata": {},
   "outputs": [],
   "source": [
    "ttests.to_csv(\"12122022_EcoliPlasmidDetection_PlasmidsvsFilteringbyAssembly_Type_noPP_ttests.csv\")"
   ]
  },
  {
   "cell_type": "code",
   "execution_count": 9,
   "id": "6344e03c",
   "metadata": {},
   "outputs": [
    {
     "data": {
      "text/html": [
       "<div>\n",
       "<style scoped>\n",
       "    .dataframe tbody tr th:only-of-type {\n",
       "        vertical-align: middle;\n",
       "    }\n",
       "\n",
       "    .dataframe tbody tr th {\n",
       "        vertical-align: top;\n",
       "    }\n",
       "\n",
       "    .dataframe thead th {\n",
       "        text-align: right;\n",
       "    }\n",
       "</style>\n",
       "<table border=\"1\" class=\"dataframe\">\n",
       "  <thead>\n",
       "    <tr style=\"text-align: right;\">\n",
       "      <th></th>\n",
       "      <th>Hybrid_p</th>\n",
       "      <th>Long_Read_p</th>\n",
       "    </tr>\n",
       "  </thead>\n",
       "  <tbody>\n",
       "    <tr>\n",
       "      <th>C(Category)</th>\n",
       "      <td>0.971676</td>\n",
       "      <td>0.886602</td>\n",
       "    </tr>\n",
       "  </tbody>\n",
       "</table>\n",
       "</div>"
      ],
      "text/plain": [
       "             Hybrid_p  Long_Read_p\n",
       "C(Category)  0.971676     0.886602"
      ]
     },
     "execution_count": 9,
     "metadata": {},
     "output_type": "execute_result"
    }
   ],
   "source": [
    "# One way ANOVA to see impact of assembly condition on total number of plasmid clusters detected in both assembly types\n",
    "results = []\n",
    "#'source' is AMR, GI, phage, etc....\n",
    "for AT in mobsuitenoPP['Assembly_Type'].unique():\n",
    "    #make the model\n",
    "    model = smf.ols('Corrected_Total_Plasmids ~ C(Category)', data=mobsuitenoPP[mobsuitenoPP['Assembly_Type']==AT]).fit()\n",
    "    #calculate anova. We use type 3 SS in this paper.\n",
    "    d = sm.stats.anova_lm(model, typ=3)\n",
    "    # We only care about the F statistic in this case. grab it.\n",
    "    d = d[['PR(>F)']]\n",
    "    d.rename({'PR(>F)': \"{}_p\".format(AT)}, axis=1, inplace=True)\n",
    "    results.append(d)\n",
    "#Compile the results into one dataframe\n",
    "all_r = results[0]\n",
    "for d in results[1:]:\n",
    "    all_r = all_r.join(d)\n",
    "all_r = all_r.dropna().iloc[1:].dropna()[['Hybrid_p', 'Long_Read_p']]\n",
    "all_r"
   ]
  },
  {
   "cell_type": "code",
   "execution_count": 10,
   "id": "722b82de",
   "metadata": {},
   "outputs": [
    {
     "data": {
      "text/html": [
       "<div>\n",
       "<style scoped>\n",
       "    .dataframe tbody tr th:only-of-type {\n",
       "        vertical-align: middle;\n",
       "    }\n",
       "\n",
       "    .dataframe tbody tr th {\n",
       "        vertical-align: top;\n",
       "    }\n",
       "\n",
       "    .dataframe thead th {\n",
       "        text-align: right;\n",
       "    }\n",
       "</style>\n",
       "<table border=\"1\" class=\"dataframe\">\n",
       "  <thead>\n",
       "    <tr style=\"text-align: right;\">\n",
       "      <th></th>\n",
       "      <th>Feature</th>\n",
       "      <th>query</th>\n",
       "      <th>subject</th>\n",
       "      <th>P</th>\n",
       "    </tr>\n",
       "  </thead>\n",
       "  <tbody>\n",
       "    <tr>\n",
       "      <th>0</th>\n",
       "      <td>Hybrid</td>\n",
       "      <td>HLF</td>\n",
       "      <td>HLF</td>\n",
       "      <td>1.0</td>\n",
       "    </tr>\n",
       "    <tr>\n",
       "      <th>1</th>\n",
       "      <td>Hybrid</td>\n",
       "      <td>HLF</td>\n",
       "      <td>HLUF</td>\n",
       "      <td>1.0</td>\n",
       "    </tr>\n",
       "    <tr>\n",
       "      <th>2</th>\n",
       "      <td>Hybrid</td>\n",
       "      <td>HLF</td>\n",
       "      <td>HRF</td>\n",
       "      <td>1.0</td>\n",
       "    </tr>\n",
       "    <tr>\n",
       "      <th>3</th>\n",
       "      <td>Hybrid</td>\n",
       "      <td>HLF</td>\n",
       "      <td>HRUF</td>\n",
       "      <td>1.0</td>\n",
       "    </tr>\n",
       "    <tr>\n",
       "      <th>4</th>\n",
       "      <td>Hybrid</td>\n",
       "      <td>HLUF</td>\n",
       "      <td>HLF</td>\n",
       "      <td>1.0</td>\n",
       "    </tr>\n",
       "  </tbody>\n",
       "</table>\n",
       "</div>"
      ],
      "text/plain": [
       "  Feature query subject    P\n",
       "0  Hybrid   HLF     HLF  1.0\n",
       "1  Hybrid   HLF    HLUF  1.0\n",
       "2  Hybrid   HLF     HRF  1.0\n",
       "3  Hybrid   HLF    HRUF  1.0\n",
       "4  Hybrid  HLUF     HLF  1.0"
      ]
     },
     "execution_count": 10,
     "metadata": {},
     "output_type": "execute_result"
    }
   ],
   "source": [
    "records = []\n",
    "for AT in mobsuitenoPP['Assembly_Type'].unique(): #AMR, HMR, plasmid, etc...\n",
    "    # this calculates adjusted p value\n",
    "    d = sp.posthoc_ttest(mobsuitenoPP[mobsuitenoPP['Assembly_Type']==AT],\n",
    "                 val_col='Corrected_Total_Plasmids',\n",
    "                 group_col='Category',\n",
    "                 p_adjust='bonferroni')\n",
    "    #Format the result into a dict\n",
    "    for i in d.index:\n",
    "        for j in d.columns:\n",
    "            records.append({'Feature': AT, 'query': i, 'subject': j, 'P': d.loc[i][j]})\n",
    "ttests = pd.DataFrame.from_records(records)\n",
    "ttests.head()"
   ]
  },
  {
   "cell_type": "code",
   "execution_count": 11,
   "id": "e40dc6ed",
   "metadata": {},
   "outputs": [],
   "source": [
    "ttests.to_csv(\"12122022_EcoliPlasmidDetection_PlasmidsvsCategorybyAssembly_Type_noPP_ttests.csv\")"
   ]
  },
  {
   "cell_type": "code",
   "execution_count": 12,
   "id": "e2cfdde7",
   "metadata": {},
   "outputs": [
    {
     "data": {
      "text/html": [
       "<div>\n",
       "<style scoped>\n",
       "    .dataframe tbody tr th:only-of-type {\n",
       "        vertical-align: middle;\n",
       "    }\n",
       "\n",
       "    .dataframe tbody tr th {\n",
       "        vertical-align: top;\n",
       "    }\n",
       "\n",
       "    .dataframe thead th {\n",
       "        text-align: right;\n",
       "    }\n",
       "</style>\n",
       "<table border=\"1\" class=\"dataframe\">\n",
       "  <thead>\n",
       "    <tr style=\"text-align: right;\">\n",
       "      <th></th>\n",
       "      <th>Filtered_p</th>\n",
       "      <th>Unfiltered_p</th>\n",
       "    </tr>\n",
       "  </thead>\n",
       "  <tbody>\n",
       "    <tr>\n",
       "      <th>C(Assembly_Type)</th>\n",
       "      <td>0.041322</td>\n",
       "      <td>0.587068</td>\n",
       "    </tr>\n",
       "  </tbody>\n",
       "</table>\n",
       "</div>"
      ],
      "text/plain": [
       "                  Filtered_p  Unfiltered_p\n",
       "C(Assembly_Type)    0.041322      0.587068"
      ]
     },
     "execution_count": 12,
     "metadata": {},
     "output_type": "execute_result"
    }
   ],
   "source": [
    "#One way ANOVA for impact of assembly type on total number of plasmid clusters detected by assembly condition\n",
    "results = []\n",
    "#'source' is AMR, GI, phage, etc....\n",
    "for AC in mobsuitenoPP['Filtering'].unique():\n",
    "    #make the model\n",
    "    model = smf.ols('Corrected_Total_Plasmids ~ C(Assembly_Type)', data=mobsuitenoPP[mobsuitenoPP['Filtering']==AC]).fit()\n",
    "    #calculate anova. We use type 3 error correction in this paper.\n",
    "    d = sm.stats.anova_lm(model, typ=3)\n",
    "    # We only care about the F statistic in this case. grab it.\n",
    "    d = d[['PR(>F)']]\n",
    "    d.rename({'PR(>F)': \"{}_p\".format(AC)}, axis=1, inplace=True)\n",
    "    results.append(d)\n",
    "#Compile the results into one dataframe\n",
    "all_r = results[0]\n",
    "for d in results[1:]:\n",
    "    all_r = all_r.join(d)\n",
    "all_r = all_r.dropna().iloc[1:].dropna()[['Filtered_p', 'Unfiltered_p']]\n",
    "all_r"
   ]
  },
  {
   "cell_type": "code",
   "execution_count": 13,
   "id": "2889e610",
   "metadata": {},
   "outputs": [
    {
     "data": {
      "text/html": [
       "<div>\n",
       "<style scoped>\n",
       "    .dataframe tbody tr th:only-of-type {\n",
       "        vertical-align: middle;\n",
       "    }\n",
       "\n",
       "    .dataframe tbody tr th {\n",
       "        vertical-align: top;\n",
       "    }\n",
       "\n",
       "    .dataframe thead th {\n",
       "        text-align: right;\n",
       "    }\n",
       "</style>\n",
       "<table border=\"1\" class=\"dataframe\">\n",
       "  <thead>\n",
       "    <tr style=\"text-align: right;\">\n",
       "      <th></th>\n",
       "      <th>Feature</th>\n",
       "      <th>query</th>\n",
       "      <th>subject</th>\n",
       "      <th>P</th>\n",
       "    </tr>\n",
       "  </thead>\n",
       "  <tbody>\n",
       "    <tr>\n",
       "      <th>0</th>\n",
       "      <td>Filtered</td>\n",
       "      <td>Hybrid</td>\n",
       "      <td>Hybrid</td>\n",
       "      <td>1.000000</td>\n",
       "    </tr>\n",
       "    <tr>\n",
       "      <th>1</th>\n",
       "      <td>Filtered</td>\n",
       "      <td>Hybrid</td>\n",
       "      <td>Long_Read</td>\n",
       "      <td>0.041322</td>\n",
       "    </tr>\n",
       "    <tr>\n",
       "      <th>2</th>\n",
       "      <td>Filtered</td>\n",
       "      <td>Long_Read</td>\n",
       "      <td>Hybrid</td>\n",
       "      <td>0.041322</td>\n",
       "    </tr>\n",
       "    <tr>\n",
       "      <th>3</th>\n",
       "      <td>Filtered</td>\n",
       "      <td>Long_Read</td>\n",
       "      <td>Long_Read</td>\n",
       "      <td>1.000000</td>\n",
       "    </tr>\n",
       "    <tr>\n",
       "      <th>4</th>\n",
       "      <td>Unfiltered</td>\n",
       "      <td>Hybrid</td>\n",
       "      <td>Hybrid</td>\n",
       "      <td>1.000000</td>\n",
       "    </tr>\n",
       "  </tbody>\n",
       "</table>\n",
       "</div>"
      ],
      "text/plain": [
       "      Feature      query    subject         P\n",
       "0    Filtered     Hybrid     Hybrid  1.000000\n",
       "1    Filtered     Hybrid  Long_Read  0.041322\n",
       "2    Filtered  Long_Read     Hybrid  0.041322\n",
       "3    Filtered  Long_Read  Long_Read  1.000000\n",
       "4  Unfiltered     Hybrid     Hybrid  1.000000"
      ]
     },
     "execution_count": 13,
     "metadata": {},
     "output_type": "execute_result"
    }
   ],
   "source": [
    "#calculating t-tests for the above ANOVA\n",
    "records = []\n",
    "for AC in mobsuitenoPP['Filtering'].unique(): #AMR, HMR, plasmid, etc...\n",
    "    # this calculates adjusted p value\n",
    "    d = sp.posthoc_ttest(mobsuitenoPP[mobsuitenoPP['Filtering']==AC],\n",
    "                 val_col='Corrected_Total_Plasmids',\n",
    "                 group_col='Assembly_Type',\n",
    "                 p_adjust='bonferroni')\n",
    "    #Format the result into a dict\n",
    "    for i in d.index:\n",
    "        for j in d.columns:\n",
    "            records.append({'Feature': AC, 'query': i, 'subject': j, 'P': d.loc[i][j]})\n",
    "ttests = pd.DataFrame.from_records(records)\n",
    "ttests.head()"
   ]
  },
  {
   "cell_type": "code",
   "execution_count": 14,
   "id": "15592347",
   "metadata": {},
   "outputs": [],
   "source": [
    "ttests.to_csv(\"12122022_EcoliPlasmidDetection_PlasmidsvsAssembly_TypebyFiltering_noPP_ttests.csv\")"
   ]
  },
  {
   "cell_type": "code",
   "execution_count": 15,
   "id": "460473ef",
   "metadata": {},
   "outputs": [
    {
     "data": {
      "text/html": [
       "<div>\n",
       "<style scoped>\n",
       "    .dataframe tbody tr th:only-of-type {\n",
       "        vertical-align: middle;\n",
       "    }\n",
       "\n",
       "    .dataframe tbody tr th {\n",
       "        vertical-align: top;\n",
       "    }\n",
       "\n",
       "    .dataframe thead th {\n",
       "        text-align: right;\n",
       "    }\n",
       "</style>\n",
       "<table border=\"1\" class=\"dataframe\">\n",
       "  <thead>\n",
       "    <tr style=\"text-align: right;\">\n",
       "      <th></th>\n",
       "      <th>Rapid_p</th>\n",
       "      <th>Ligation_p</th>\n",
       "    </tr>\n",
       "  </thead>\n",
       "  <tbody>\n",
       "    <tr>\n",
       "      <th>C(Assembly_Type)</th>\n",
       "      <td>0.042913</td>\n",
       "      <td>0.469851</td>\n",
       "    </tr>\n",
       "  </tbody>\n",
       "</table>\n",
       "</div>"
      ],
      "text/plain": [
       "                   Rapid_p  Ligation_p\n",
       "C(Assembly_Type)  0.042913    0.469851"
      ]
     },
     "execution_count": 15,
     "metadata": {},
     "output_type": "execute_result"
    }
   ],
   "source": [
    "#One way ANOVA to see impact of assembly type on total number of plasmid clusters detected by sequencing condition\n",
    "results = []\n",
    "#'source' is AMR, GI, phage, etc....\n",
    "for SC in mobsuitenoPP['Sequencing_Kit'].unique():\n",
    "    #make the model\n",
    "    model = smf.ols('Corrected_Total_Plasmids ~ C(Assembly_Type)', data=mobsuitenoPP[mobsuitenoPP['Sequencing_Kit']==SC]).fit()\n",
    "    #calculate anova. We use type 3 error correction in this paper.\n",
    "    d = sm.stats.anova_lm(model, typ=3)\n",
    "    # We only care about the F statistic in this case. grab it.\n",
    "    d = d[['PR(>F)']]\n",
    "    d.rename({'PR(>F)': \"{}_p\".format(SC)}, axis=1, inplace=True)\n",
    "    results.append(d)\n",
    "#Compile the results into one dataframe\n",
    "all_r = results[0]\n",
    "for d in results[1:]:\n",
    "    all_r = all_r.join(d)\n",
    "all_r = all_r.dropna().iloc[1:].dropna()[['Rapid_p', 'Ligation_p']]\n",
    "all_r"
   ]
  },
  {
   "cell_type": "code",
   "execution_count": 16,
   "id": "66a81c36",
   "metadata": {},
   "outputs": [
    {
     "data": {
      "text/html": [
       "<div>\n",
       "<style scoped>\n",
       "    .dataframe tbody tr th:only-of-type {\n",
       "        vertical-align: middle;\n",
       "    }\n",
       "\n",
       "    .dataframe tbody tr th {\n",
       "        vertical-align: top;\n",
       "    }\n",
       "\n",
       "    .dataframe thead th {\n",
       "        text-align: right;\n",
       "    }\n",
       "</style>\n",
       "<table border=\"1\" class=\"dataframe\">\n",
       "  <thead>\n",
       "    <tr style=\"text-align: right;\">\n",
       "      <th></th>\n",
       "      <th>Feature</th>\n",
       "      <th>query</th>\n",
       "      <th>subject</th>\n",
       "      <th>P</th>\n",
       "    </tr>\n",
       "  </thead>\n",
       "  <tbody>\n",
       "    <tr>\n",
       "      <th>0</th>\n",
       "      <td>Ligation</td>\n",
       "      <td>Hybrid</td>\n",
       "      <td>Hybrid</td>\n",
       "      <td>1.000000</td>\n",
       "    </tr>\n",
       "    <tr>\n",
       "      <th>1</th>\n",
       "      <td>Ligation</td>\n",
       "      <td>Hybrid</td>\n",
       "      <td>Long_Read</td>\n",
       "      <td>0.469851</td>\n",
       "    </tr>\n",
       "    <tr>\n",
       "      <th>2</th>\n",
       "      <td>Ligation</td>\n",
       "      <td>Long_Read</td>\n",
       "      <td>Hybrid</td>\n",
       "      <td>0.469851</td>\n",
       "    </tr>\n",
       "    <tr>\n",
       "      <th>3</th>\n",
       "      <td>Ligation</td>\n",
       "      <td>Long_Read</td>\n",
       "      <td>Long_Read</td>\n",
       "      <td>1.000000</td>\n",
       "    </tr>\n",
       "    <tr>\n",
       "      <th>4</th>\n",
       "      <td>Rapid</td>\n",
       "      <td>Hybrid</td>\n",
       "      <td>Hybrid</td>\n",
       "      <td>1.000000</td>\n",
       "    </tr>\n",
       "  </tbody>\n",
       "</table>\n",
       "</div>"
      ],
      "text/plain": [
       "    Feature      query    subject         P\n",
       "0  Ligation     Hybrid     Hybrid  1.000000\n",
       "1  Ligation     Hybrid  Long_Read  0.469851\n",
       "2  Ligation  Long_Read     Hybrid  0.469851\n",
       "3  Ligation  Long_Read  Long_Read  1.000000\n",
       "4     Rapid     Hybrid     Hybrid  1.000000"
      ]
     },
     "execution_count": 16,
     "metadata": {},
     "output_type": "execute_result"
    }
   ],
   "source": [
    "#calculating t-tests for the above ANOVA\n",
    "records = []\n",
    "for SC in mobsuitenoPP['Sequencing_Kit'].unique(): #AMR, HMR, plasmid, etc...\n",
    "    # this calculates adjusted p value\n",
    "    d = sp.posthoc_ttest(mobsuitenoPP[mobsuitenoPP['Sequencing_Kit']==SC],\n",
    "                 val_col='Corrected_Total_Plasmids',\n",
    "                 group_col='Assembly_Type',\n",
    "                 p_adjust='bonferroni')\n",
    "    #Format the result into a dict\n",
    "    for i in d.index:\n",
    "        for j in d.columns:\n",
    "            records.append({'Feature': SC, 'query': i, 'subject': j, 'P': d.loc[i][j]})\n",
    "ttests = pd.DataFrame.from_records(records)\n",
    "ttests.head()"
   ]
  },
  {
   "cell_type": "code",
   "execution_count": 17,
   "id": "ebdfcbfa",
   "metadata": {},
   "outputs": [],
   "source": [
    "ttests.to_csv(\"12122022_EcoliPlasmidDetection_PlasmidsvsAssemblyTypebySequencing_Kit_noPP_ttests.csv\")"
   ]
  },
  {
   "cell_type": "code",
   "execution_count": 18,
   "id": "29da5aab",
   "metadata": {},
   "outputs": [],
   "source": [
    "import itertools as it\n",
    "from statannotations.Annotator import Annotator\n",
    "import matplotlib.pyplot as plt\n",
    "import seaborn as sns"
   ]
  },
  {
   "cell_type": "code",
   "execution_count": 19,
   "id": "9ade3e7f",
   "metadata": {},
   "outputs": [
    {
     "name": "stdout",
     "output_type": "stream",
     "text": [
      "[(('Hybrid', 'Filtered'), ('Hybrid', 'Unfiltered')), (('Long_Read', 'Filtered'), ('Long_Read', 'Unfiltered'))]\n",
      "p-value annotation legend:\n",
      "      ns: p <= 1.00e+00\n",
      "       *: 1.00e-02 < p <= 5.00e-02\n",
      "      **: 1.00e-03 < p <= 1.00e-02\n",
      "     ***: 1.00e-04 < p <= 1.00e-03\n",
      "    ****: p <= 1.00e-04\n",
      "\n",
      "Long_Read_Filtered vs. Long_Read_Unfiltered: t-test independent samples, P_val:5.811e-02 t=-1.905e+00\n",
      "Hybrid_Filtered vs. Hybrid_Unfiltered: t-test independent samples, P_val:9.342e-01 t=8.280e-02\n"
     ]
    },
    {
     "data": {
      "text/plain": [
       "(<AxesSubplot:xlabel='Assembly_Type', ylabel='Corrected_Total_Plasmids'>,\n",
       " [<statannotations.Annotation.Annotation at 0x7fb4b04819a0>,\n",
       "  <statannotations.Annotation.Annotation at 0x7fb4b0481a00>])"
      ]
     },
     "execution_count": 19,
     "metadata": {},
     "output_type": "execute_result"
    },
    {
     "data": {
      "image/png": "[encoded data removed]",
      "text/plain": [
       "<Figure size 432x288 with 1 Axes>"
      ]
     },
     "metadata": {
      "needs_background": "light"
     },
     "output_type": "display_data"
    }
   ],
   "source": [
    "#making lists with the unique values of Tissue_Time and Vaccine column\n",
    "s = mobsuitenoPP['Assembly_Type'].unique() #All the unique feature types.\n",
    "h = mobsuitenoPP['Filtering'].unique() #All the unique habitats.\n",
    "#Make a dict with 'Assembly' keys. each entry in the dict points to a list of all the conditions\n",
    "d = {} \n",
    "for i in s:\n",
    "    d[i] = list(h)\n",
    "\n",
    "#Use the dict to make the pairs\n",
    "pairs = []\n",
    "for i in d:\n",
    "    stuff = it.combinations(d[i], r=2)\n",
    "    for j in stuff:\n",
    "        pairs.append( ((i, j[0]), (i, j[1])) )\n",
    "print(pairs)\n",
    "##############################################\n",
    "states_subcat =[\"Hybrid\", \"Long_Read\"]\n",
    "states_order =[\"Filtered\", \"Unfiltered\"] \n",
    "state_palette = \"colorblind\"\n",
    "\n",
    "with sns.plotting_context('notebook', font_scale = 1.4): \n",
    "    #Create new plot \n",
    "    hue_plot_params = {'data': mobsuitenoPP, 'x': 'Assembly_Type', 'y': 'Corrected_Total_Plasmids', \"order\": states_subcat, 'hue': 'Filtering', \"hue_order\": states_order, \"palette\": state_palette} # Plot with seaborn\n",
    "    ax = sns.stripplot(x=\"Assembly_Type\", y=\"Corrected_Total_Plasmids\", data=mobsuitenoPP, size=8, order=states_subcat, hue=\"Filtering\", dodge=True)\n",
    "plt.xticks(rotation=45, ha=\"right\")\n",
    "\n",
    "\n",
    "# plot the mean line\n",
    "sns.boxplot(showmeans=True,\n",
    "            meanline=True,\n",
    "            meanprops={'color': 'k', 'ls': '-', 'lw': 2},\n",
    "            medianprops={'visible': False},\n",
    "            whiskerprops={'visible': False},\n",
    "            zorder=10,\n",
    "            x= \"Assembly_Type\",\n",
    "            y=\"Corrected_Total_Plasmids\",\n",
    "            data=mobsuitenoPP,\n",
    "            showfliers=False,\n",
    "            showbox=False,\n",
    "            showcaps=False,\n",
    "            hue=\"Filtering\",\n",
    "            order=states_subcat,\n",
    "            ax=ax)\n",
    "\n",
    "handles, labels = ax.get_legend_handles_labels()\n",
    "l = plt.legend(handles[0:3], labels[0:3], bbox_to_anchor=(1.05, 1), loc=2, borderaxespad=0.)\n",
    "\n",
    "#annotating with pairs\n",
    "annot = Annotator(ax, pairs, **hue_plot_params)\n",
    "annot.configure(test='t-test_ind', verbose=2)\n",
    "annot.apply_test()\n",
    "annot.annotate()"
   ]
  },
  {
   "cell_type": "code",
   "execution_count": 20,
   "id": "c41c8102",
   "metadata": {},
   "outputs": [
    {
     "name": "stdout",
     "output_type": "stream",
     "text": [
      "[(('Filtered', 'Hybrid'), ('Filtered', 'Long_Read')), (('Unfiltered', 'Hybrid'), ('Unfiltered', 'Long_Read'))]\n",
      "p-value annotation legend:\n",
      "      ns: p <= 1.00e+00\n",
      "       *: 1.00e-02 < p <= 5.00e-02\n",
      "      **: 1.00e-03 < p <= 1.00e-02\n",
      "     ***: 1.00e-04 < p <= 1.00e-03\n",
      "    ****: p <= 1.00e-04\n",
      "\n",
      "Unfiltered_Hybrid vs. Unfiltered_Long_Read: t-test independent samples, P_val:5.871e-01 t=5.443e-01\n",
      "Filtered_Hybrid vs. Filtered_Long_Read: t-test independent samples, P_val:4.132e-02 t=2.058e+00\n"
     ]
    },
    {
     "data": {
      "text/plain": [
       "(<AxesSubplot:xlabel='Filtering', ylabel='Corrected_Total_Plasmids'>,\n",
       " [<statannotations.Annotation.Annotation at 0x7fb4b057a7c0>,\n",
       "  <statannotations.Annotation.Annotation at 0x7fb4b057a7f0>])"
      ]
     },
     "execution_count": 20,
     "metadata": {},
     "output_type": "execute_result"
    },
    {
     "data": {
      "image/png": "[encoded data removed]",
      "text/plain": [
       "<Figure size 432x288 with 1 Axes>"
      ]
     },
     "metadata": {
      "needs_background": "light"
     },
     "output_type": "display_data"
    }
   ],
   "source": [
    "#making lists with the unique values of Assembly Condition and Assembly_Type column\n",
    "s = mobsuitenoPP['Filtering'].unique() #All the unique feature types.\n",
    "h = mobsuitenoPP['Assembly_Type'].unique() #All the unique habitats.\n",
    "#Make a dict with Assembly keys. each entry in the dict points to a list of all the conditions\n",
    "d = {} \n",
    "for i in s:\n",
    "    d[i] = list(h)\n",
    "\n",
    "#Use the dict to make the pairs\n",
    "pairs = []\n",
    "for i in d:\n",
    "    stuff = it.combinations(d[i], r=2)\n",
    "    for j in stuff:\n",
    "        pairs.append( ((i, j[0]), (i, j[1])) )\n",
    "print(pairs)\n",
    "##############################################\n",
    "states_subcat =[\"Filtered\", \"Unfiltered\"]\n",
    "states_order =[\"Hybrid\", \"Long_Read\"] \n",
    "state_palette = \"colorblind\"\n",
    "\n",
    "with sns.plotting_context('notebook', font_scale = 1.4): \n",
    "    #Create new plot \n",
    "    hue_plot_params = {'data': mobsuitenoPP, 'x': 'Filtering', 'y': 'Corrected_Total_Plasmids', \"order\": states_subcat, 'hue': 'Assembly_Type', \"hue_order\": states_order, \"palette\": state_palette} # Plot with seaborn\n",
    "    ax = sns.stripplot(x=\"Filtering\", y=\"Corrected_Total_Plasmids\", data=mobsuitenoPP, size=8, order=states_subcat, hue=\"Assembly_Type\", dodge=True)\n",
    "plt.xticks(rotation=45, ha=\"right\")\n",
    "\n",
    "\n",
    "# plot the mean line\n",
    "sns.boxplot(showmeans=True,\n",
    "            meanline=True,\n",
    "            meanprops={'color': 'k', 'ls': '-', 'lw': 2},\n",
    "            medianprops={'visible': False},\n",
    "            whiskerprops={'visible': False},\n",
    "            zorder=10,\n",
    "            x= \"Filtering\",\n",
    "            y=\"Corrected_Total_Plasmids\",\n",
    "            data=mobsuitenoPP,\n",
    "            showfliers=False,\n",
    "            showbox=False,\n",
    "            showcaps=False,\n",
    "            hue=\"Assembly_Type\",\n",
    "            order=states_subcat,\n",
    "            ax=ax)\n",
    "\n",
    "handles, labels = ax.get_legend_handles_labels()\n",
    "l = plt.legend(handles[0:3], labels[0:3], bbox_to_anchor=(1.05, 1), loc=2, borderaxespad=0.)\n",
    "\n",
    "#annotating with pairs\n",
    "annot = Annotator(ax, pairs, **hue_plot_params)\n",
    "annot.configure(test='t-test_ind', verbose=2)\n",
    "annot.apply_test()\n",
    "annot.annotate()"
   ]
  },
  {
   "cell_type": "code",
   "execution_count": 21,
   "id": "a5aba17b",
   "metadata": {},
   "outputs": [
    {
     "name": "stdout",
     "output_type": "stream",
     "text": [
      "[(('Ligation', 'Hybrid'), ('Ligation', 'Long_Read')), (('Rapid', 'Hybrid'), ('Rapid', 'Long_Read'))]\n",
      "p-value annotation legend:\n",
      "      ns: p <= 1.00e+00\n",
      "       *: 1.00e-02 < p <= 5.00e-02\n",
      "      **: 1.00e-03 < p <= 1.00e-02\n",
      "     ***: 1.00e-04 < p <= 1.00e-03\n",
      "    ****: p <= 1.00e-04\n",
      "\n",
      "Rapid_Hybrid vs. Rapid_Long_Read: t-test independent samples, P_val:4.291e-02 t=2.042e+00\n",
      "Ligation_Hybrid vs. Ligation_Long_Read: t-test independent samples, P_val:4.699e-01 t=7.245e-01\n"
     ]
    },
    {
     "data": {
      "text/plain": [
       "(<AxesSubplot:xlabel='Sequencing_Kit', ylabel='Corrected_Total_Plasmids'>,\n",
       " [<statannotations.Annotation.Annotation at 0x7fb4b86b9f10>,\n",
       "  <statannotations.Annotation.Annotation at 0x7fb4b03581c0>])"
      ]
     },
     "execution_count": 21,
     "metadata": {},
     "output_type": "execute_result"
    },
    {
     "data": {
      "image/png": "[encoded data removed]",
      "text/plain": [
       "<Figure size 432x288 with 1 Axes>"
      ]
     },
     "metadata": {
      "needs_background": "light"
     },
     "output_type": "display_data"
    }
   ],
   "source": [
    "#making lists with the unique values of Sequence Condition and Assembly Type column\n",
    "s = mobsuitenoPP['Sequencing_Kit'].unique() #All the unique feature types.\n",
    "h = mobsuitenoPP['Assembly_Type'].unique() #All the unique habitats.\n",
    "#Make a dict with keys. each entry in the dict points to a list of all the conditions\n",
    "d = {} \n",
    "for i in s:\n",
    "    d[i] = list(h)\n",
    "\n",
    "#Use the dict to make the pairs\n",
    "pairs = []\n",
    "for i in d:\n",
    "    stuff = it.combinations(d[i], r=2)\n",
    "    for j in stuff:\n",
    "        pairs.append( ((i, j[0]), (i, j[1])) )\n",
    "print(pairs)\n",
    "##############################################\n",
    "states_subcat =[\"Ligation\", \"Rapid\"]\n",
    "states_order =[\"Hybrid\", \"Long_Read\"] \n",
    "state_palette = \"colorblind\"\n",
    "\n",
    "with sns.plotting_context('notebook', font_scale = 1.4): \n",
    "    #Create new plot \n",
    "    hue_plot_params = {'data': mobsuitenoPP, 'x': 'Sequencing_Kit', 'y': 'Corrected_Total_Plasmids', \"order\": states_subcat, 'hue': 'Assembly_Type', \"hue_order\": states_order, \"palette\": state_palette} # Plot with seaborn\n",
    "    ax = sns.stripplot(x=\"Sequencing_Kit\", y=\"Corrected_Total_Plasmids\", data=mobsuitenoPP, size=8, order=states_subcat, hue=\"Assembly_Type\", dodge=True)\n",
    "plt.xticks(rotation=45, ha=\"right\")\n",
    "\n",
    "\n",
    "# plot the mean line\n",
    "sns.boxplot(showmeans=True,\n",
    "            meanline=True,\n",
    "            meanprops={'color': 'k', 'ls': '-', 'lw': 2},\n",
    "            medianprops={'visible': False},\n",
    "            whiskerprops={'visible': False},\n",
    "            zorder=10,\n",
    "            x= \"Sequencing_Kit\",\n",
    "            y=\"Corrected_Total_Plasmids\",\n",
    "            data=mobsuitenoPP,\n",
    "            showfliers=False,\n",
    "            showbox=False,\n",
    "            showcaps=False,\n",
    "            hue=\"Assembly_Type\",\n",
    "            order=states_subcat,\n",
    "            ax=ax)\n",
    "\n",
    "handles, labels = ax.get_legend_handles_labels()\n",
    "l = plt.legend(handles[0:3], labels[0:3], bbox_to_anchor=(1.05, 1), loc=2, borderaxespad=0.)\n",
    "\n",
    "#annotating with pairs\n",
    "annot = Annotator(ax, pairs, **hue_plot_params)\n",
    "annot.configure(test='t-test_ind', verbose=2)\n",
    "annot.apply_test()\n",
    "annot.annotate()"
   ]
  },
  {
   "cell_type": "code",
   "execution_count": 22,
   "id": "996b4bc3",
   "metadata": {},
   "outputs": [
    {
     "name": "stdout",
     "output_type": "stream",
     "text": [
      "[(('Hybrid', 'Ligation'), ('Hybrid', 'Rapid')), (('Long_Read', 'Ligation'), ('Long_Read', 'Rapid'))]\n",
      "p-value annotation legend:\n",
      "      ns: p <= 1.00e+00\n",
      "       *: 1.00e-02 < p <= 5.00e-02\n",
      "      **: 1.00e-03 < p <= 1.00e-02\n",
      "     ***: 1.00e-04 < p <= 1.00e-03\n",
      "    ****: p <= 1.00e-04\n",
      "\n",
      "Long_Read_Ligation vs. Long_Read_Rapid: t-test independent samples, P_val:5.835e-01 t=5.491e-01\n",
      "Hybrid_Ligation vs. Hybrid_Rapid: t-test independent samples, P_val:6.797e-01 t=-4.145e-01\n"
     ]
    },
    {
     "data": {
      "text/plain": [
       "(<AxesSubplot:xlabel='Assembly_Type', ylabel='Corrected_Total_Plasmids'>,\n",
       " [<statannotations.Annotation.Annotation at 0x7fb4b0580490>,\n",
       "  <statannotations.Annotation.Annotation at 0x7fb4b0226b20>])"
      ]
     },
     "execution_count": 22,
     "metadata": {},
     "output_type": "execute_result"
    },
    {
     "data": {
      "image/png": "[encoded data removed]",
      "text/plain": [
       "<Figure size 432x288 with 1 Axes>"
      ]
     },
     "metadata": {
      "needs_background": "light"
     },
     "output_type": "display_data"
    }
   ],
   "source": [
    "#making lists with the unique values of Assembly Type and Sequencing Condition column\n",
    "s = mobsuitenoPP['Assembly_Type'].unique() #All the unique feature types.\n",
    "h = mobsuitenoPP['Sequencing_Kit'].unique() #All the unique habitats.\n",
    "#Make a dict with 'Vaccine' keys. each entry in the dict points to a list of all the habitats\n",
    "d = {} \n",
    "for i in s:\n",
    "    d[i] = list(h)\n",
    "\n",
    "#Use the dict to make the pairs\n",
    "pairs = []\n",
    "for i in d:\n",
    "    stuff = it.combinations(d[i], r=2)\n",
    "    for j in stuff:\n",
    "        pairs.append( ((i, j[0]), (i, j[1])) )\n",
    "print(pairs)\n",
    "##############################################\n",
    "states_subcat =[\"Hybrid\", \"Long_Read\"]\n",
    "states_order =[\"Ligation\", \"Rapid\"]\n",
    "state_palette = \"colorblind\"\n",
    "\n",
    "with sns.plotting_context('notebook', font_scale = 1.4): \n",
    "    #Create new plot \n",
    "    hue_plot_params = {'data': mobsuitenoPP, 'x': 'Assembly_Type', 'y': 'Corrected_Total_Plasmids', \"order\": states_subcat, 'hue': 'Sequencing_Kit', \"hue_order\": states_order, \"palette\": state_palette} # Plot with seaborn\n",
    "    ax = sns.stripplot(x=\"Assembly_Type\", y=\"Corrected_Total_Plasmids\", data=mobsuitenoPP, size=8, order=states_subcat, hue=\"Sequencing_Kit\", dodge=True)\n",
    "plt.xticks(rotation=45, ha=\"right\")\n",
    "\n",
    "\n",
    "# plot the mean line\n",
    "sns.boxplot(showmeans=True,\n",
    "            meanline=True,\n",
    "            meanprops={'color': 'k', 'ls': '-', 'lw': 2},\n",
    "            medianprops={'visible': False},\n",
    "            whiskerprops={'visible': False},\n",
    "            zorder=10,\n",
    "            x= \"Assembly_Type\",\n",
    "            y=\"Corrected_Total_Plasmids\",\n",
    "            data=mobsuitenoPP,\n",
    "            showfliers=False,\n",
    "            showbox=False,\n",
    "            showcaps=False,\n",
    "            hue=\"Sequencing_Kit\",\n",
    "            order=states_subcat,\n",
    "            ax=ax)\n",
    "\n",
    "handles, labels = ax.get_legend_handles_labels()\n",
    "l = plt.legend(handles[0:3], labels[0:3], bbox_to_anchor=(1.05, 1), loc=2, borderaxespad=0.)\n",
    "\n",
    "#annotating with pairs\n",
    "annot = Annotator(ax, pairs, **hue_plot_params)\n",
    "annot.configure(test='t-test_ind', verbose=2)\n",
    "annot.apply_test()\n",
    "annot.annotate()"
   ]
  },
  {
   "cell_type": "code",
   "execution_count": 23,
   "id": "e281eb86",
   "metadata": {},
   "outputs": [
    {
     "data": {
      "text/html": [
       "<div>\n",
       "<style scoped>\n",
       "    .dataframe tbody tr th:only-of-type {\n",
       "        vertical-align: middle;\n",
       "    }\n",
       "\n",
       "    .dataframe tbody tr th {\n",
       "        vertical-align: top;\n",
       "    }\n",
       "\n",
       "    .dataframe thead th {\n",
       "        text-align: right;\n",
       "    }\n",
       "</style>\n",
       "<table border=\"1\" class=\"dataframe\">\n",
       "  <thead>\n",
       "    <tr style=\"text-align: right;\">\n",
       "      <th></th>\n",
       "      <th>PR(&gt;F)</th>\n",
       "    </tr>\n",
       "  </thead>\n",
       "  <tbody>\n",
       "    <tr>\n",
       "      <th>C(Assembly_Type)</th>\n",
       "      <td>0.000044</td>\n",
       "    </tr>\n",
       "  </tbody>\n",
       "</table>\n",
       "</div>"
      ],
      "text/plain": [
       "                    PR(>F)\n",
       "C(Assembly_Type)  0.000044"
      ]
     },
     "execution_count": 23,
     "metadata": {},
     "output_type": "execute_result"
    }
   ],
   "source": [
    "#One way ANOVA of the overall effects of Assembly Type on total number of Plasmid clusters detected\n",
    "results = []\n",
    "    #make the model\n",
    "model = smf.ols('Corrected_Total_Plasmids ~ C(Assembly_Type)', data=mobsuitePP).fit()\n",
    "    #calculate anova. We use type 3 SS in this paper.\n",
    "d = sm.stats.anova_lm(model, typ=3)\n",
    "    # We only care about the F statistic in this case. grab it.\n",
    "d = d[['PR(>F)']]\n",
    "results.append(d)\n",
    "#Compile the results into one dataframe\n",
    "all_r = results[0]\n",
    "for d in results[1:]:\n",
    "    all_r = all_r.join(d)\n",
    "all_r = all_r.dropna().iloc[1:].dropna()\n",
    "all_r"
   ]
  },
  {
   "cell_type": "code",
   "execution_count": 27,
   "id": "15f6271b",
   "metadata": {},
   "outputs": [
    {
     "name": "stdout",
     "output_type": "stream",
     "text": [
      "p-value annotation legend:\n",
      "      ns: p <= 1.00e+00\n",
      "       *: 1.00e-02 < p <= 5.00e-02\n",
      "      **: 1.00e-03 < p <= 1.00e-02\n",
      "     ***: 1.00e-04 < p <= 1.00e-03\n",
      "    ****: p <= 1.00e-04\n",
      "\n",
      "Hybrid vs. Hybrid_PP: t-test independent samples, P_val:1.113e-01 t=-1.602e+00\n",
      "Long_Read vs. Long_Read_PP: t-test independent samples, P_val:2.405e-05 t=-4.268e+00\n",
      "Hybrid_PP vs. Long_Read: t-test independent samples, P_val:1.661e-04 t=3.814e+00\n",
      "Hybrid vs. Long_Read: t-test independent samples, P_val:7.242e-02 t=1.803e+00\n",
      "Hybrid_PP vs. Long_Read_PP: t-test independent samples, P_val:5.343e-01 t=6.221e-01\n",
      "Hybrid vs. Long_Read_PP: t-test independent samples, P_val:1.954e-01 t=-1.298e+00\n"
     ]
    },
    {
     "data": {
      "image/png": "[encoded data removed]",
      "text/plain": [
       "<Figure size 432x288 with 1 Axes>"
      ]
     },
     "metadata": {
      "needs_background": "light"
     },
     "output_type": "display_data"
    }
   ],
   "source": [
    "#Generate figure showing relationship for above ANOVA\n",
    "pairs1=((\"Hybrid\", \"Long_Read\"), (\"Hybrid\", \"Hybrid_PP\"), (\"Long_Read\", \"Long_Read_PP\"),(\"Long_Read\", \"Hybrid_PP\"), (\"Hybrid\", \"Long_Read_PP\"), (\"Hybrid_PP\", \"Long_Read_PP\"))\n",
    "states_subcat =[\"Hybrid\", \"Hybrid_PP\", \"Long_Read\", \"Long_Read_PP\"]\n",
    "\n",
    "state_palette = \"colorblind\"\n",
    "\n",
    "with sns.plotting_context('notebook', font_scale = 1.4): \n",
    "    #Create new plot \n",
    "    hue_plot_params = {'data': mobsuitePP, 'x': 'Assembly_Type', 'y': 'Corrected_Total_Plasmids', \"order\": states_subcat, \"palette\": state_palette} # Plot with seaborn\n",
    "    ax = sns.stripplot(x=\"Assembly_Type\", y=\"Corrected_Total_Plasmids\", data=mobsuitePP, size=8, order=states_subcat, palette=['blue','lightsteelblue','green', 'olive','red'])\n",
    "plt.xticks(rotation=45, ha=\"right\")\n",
    "\n",
    "\n",
    "# plot the mean line\n",
    "sns.boxplot(showmeans=True,\n",
    "            meanline=True,\n",
    "            meanprops={'color': 'k', 'ls': '-', 'lw': 2},\n",
    "            medianprops={'visible': False},\n",
    "            whiskerprops={'visible': False},\n",
    "            zorder=10,\n",
    "            x= \"Assembly_Type\",\n",
    "            y=\"Corrected_Total_Plasmids\",\n",
    "            data=mobsuitePP,\n",
    "            showfliers=False,\n",
    "            showbox=False,\n",
    "            showcaps=False,\n",
    "            order=states_subcat,\n",
    "            ax=ax)\n",
    "plt.ylim(0, 15)\n",
    "plt.yticks([0, 5, 10, 15])\n",
    "handles, labels = ax.get_legend_handles_labels()\n",
    "l = plt.legend(handles[0:3], labels[0:3], bbox_to_anchor=(1.05, 1), loc=2, borderaxespad=0.)\n",
    "\n",
    "#annotating with pairs\n",
    "annot = Annotator(ax, pairs1, **hue_plot_params)\n",
    "annot.configure(test='t-test_ind', verbose=2)\n",
    "annot.apply_test()\n",
    "annot.annotate()\n",
    "\n",
    "plt.savefig(\"0104192023_EcoliPlasmidDetection_WGSvPPaddedstats.png\", dpi = 400, bbox_inches= \"tight\")"
   ]
  },
  {
   "cell_type": "code",
   "execution_count": 25,
   "id": "8c4696f1",
   "metadata": {},
   "outputs": [
    {
     "data": {
      "text/html": [
       "<div>\n",
       "<style scoped>\n",
       "    .dataframe tbody tr th:only-of-type {\n",
       "        vertical-align: middle;\n",
       "    }\n",
       "\n",
       "    .dataframe tbody tr th {\n",
       "        vertical-align: top;\n",
       "    }\n",
       "\n",
       "    .dataframe thead th {\n",
       "        text-align: right;\n",
       "    }\n",
       "</style>\n",
       "<table border=\"1\" class=\"dataframe\">\n",
       "  <thead>\n",
       "    <tr style=\"text-align: right;\">\n",
       "      <th></th>\n",
       "      <th>PR(&gt;F)</th>\n",
       "    </tr>\n",
       "  </thead>\n",
       "  <tbody>\n",
       "    <tr>\n",
       "      <th>C(Filtering)</th>\n",
       "      <td>0.114997</td>\n",
       "    </tr>\n",
       "  </tbody>\n",
       "</table>\n",
       "</div>"
      ],
      "text/plain": [
       "                PR(>F)\n",
       "C(Filtering)  0.114997"
      ]
     },
     "execution_count": 25,
     "metadata": {},
     "output_type": "execute_result"
    }
   ],
   "source": [
    "#One way ANOVA for overall effect of Assembly Condition on total plasmids detected\n",
    "results = []\n",
    "    #make the model\n",
    "model = smf.ols('Corrected_Total_Plasmids ~ C(Filtering)', data=mobsuitePP).fit()\n",
    "    #calculate anova. We use type 3 error correction in this paper.\n",
    "d = sm.stats.anova_lm(model, typ=3)\n",
    "    # We only care about the F statistic in this case. grab it.\n",
    "d = d[['PR(>F)']]\n",
    "results.append(d)\n",
    "#Compile the results into one dataframe\n",
    "all_r = results[0]\n",
    "for d in results[1:]:\n",
    "    all_r = all_r.join(d)\n",
    "all_r = all_r.dropna().iloc[1:].dropna()\n",
    "all_r"
   ]
  },
  {
   "cell_type": "code",
   "execution_count": 26,
   "id": "5410ac82",
   "metadata": {},
   "outputs": [
    {
     "name": "stdout",
     "output_type": "stream",
     "text": [
      "p-value annotation legend:\n",
      "      ns: p <= 1.00e+00\n",
      "       *: 1.00e-02 < p <= 5.00e-02\n",
      "      **: 1.00e-03 < p <= 1.00e-02\n",
      "     ***: 1.00e-04 < p <= 1.00e-03\n",
      "    ****: p <= 1.00e-04\n",
      "\n",
      "Filtered vs. Unfiltered: t-test independent samples, P_val:1.150e-01 t=-1.581e+00\n"
     ]
    },
    {
     "data": {
      "image/png": "[encoded data removed]",
      "text/plain": [
       "<Figure size 432x288 with 1 Axes>"
      ]
     },
     "metadata": {},
     "output_type": "display_data"
    }
   ],
   "source": [
    "#creating figure for above ANOVA\n",
    "\n",
    "pairs = []\n",
    "\n",
    "pairs2=[('Filtered', 'Unfiltered')]\n",
    "states_subcat =['Filtered', 'Unfiltered']\n",
    "sns.set_style(style='white') \n",
    "state_palette = \"colorblind\"\n",
    "\n",
    "with sns.plotting_context('notebook', font_scale = 1.4): \n",
    "    #Create new plot \n",
    "    hue_plot_params = {'data': mobsuitePP, 'x': 'Filtering', 'y': 'Corrected_Total_Plasmids', \"order\": states_subcat, \"palette\": state_palette}\n",
    "    ax = sns.stripplot(x=\"Filtering\", y=\"Corrected_Total_Plasmids\", data=mobsuitePP, size=8, order=states_subcat, palette=['black','grey'])\n",
    "plt.xticks(rotation=45, ha=\"right\")\n",
    "\n",
    "\n",
    "# plot the mean line\n",
    "sns.boxplot(showmeans=True,\n",
    "            meanline=True,\n",
    "            meanprops={'color': 'k', 'ls': '-', 'lw': 2},\n",
    "            medianprops={'visible': False},\n",
    "            whiskerprops={'visible': False},\n",
    "            zorder=10,\n",
    "            x= \"Filtering\",\n",
    "            y=\"Corrected_Total_Plasmids\",\n",
    "            data=mobsuitePP,\n",
    "            showfliers=False,\n",
    "            showbox=False,\n",
    "            showcaps=False,\n",
    "            order=states_subcat,\n",
    "            ax=ax)\n",
    "\n",
    "handles, labels = ax.get_legend_handles_labels()\n",
    "l = plt.legend(handles[0:3], labels[0:3], bbox_to_anchor=(1.05, 1), loc=2, borderaxespad=0.)\n",
    "\n",
    "#annotating with pairs\n",
    "annot = Annotator(ax, pairs2, **hue_plot_params)\n",
    "annot.configure(test='t-test_ind', verbose=2)\n",
    "annot.apply_test()\n",
    "annot.annotate()\n",
    "\n",
    "plt.savefig(\"12122022_EcoliPlasmidDetection_filteredvsunfiltered.png\", dpi = 400, bbox_inches= \"tight\")\n"
   ]
  },
  {
   "cell_type": "code",
   "execution_count": 27,
   "id": "5d035356",
   "metadata": {},
   "outputs": [
    {
     "data": {
      "text/html": [
       "<div>\n",
       "<style scoped>\n",
       "    .dataframe tbody tr th:only-of-type {\n",
       "        vertical-align: middle;\n",
       "    }\n",
       "\n",
       "    .dataframe tbody tr th {\n",
       "        vertical-align: top;\n",
       "    }\n",
       "\n",
       "    .dataframe thead th {\n",
       "        text-align: right;\n",
       "    }\n",
       "</style>\n",
       "<table border=\"1\" class=\"dataframe\">\n",
       "  <thead>\n",
       "    <tr style=\"text-align: right;\">\n",
       "      <th></th>\n",
       "      <th>PR(&gt;F)</th>\n",
       "    </tr>\n",
       "  </thead>\n",
       "  <tbody>\n",
       "    <tr>\n",
       "      <th>C(Sequencing_Kit)</th>\n",
       "      <td>0.296449</td>\n",
       "    </tr>\n",
       "  </tbody>\n",
       "</table>\n",
       "</div>"
      ],
      "text/plain": [
       "                     PR(>F)\n",
       "C(Sequencing_Kit)  0.296449"
      ]
     },
     "execution_count": 27,
     "metadata": {},
     "output_type": "execute_result"
    }
   ],
   "source": [
    "#One way ANOVA to get overall effects of Sequencing Condition on total number of plasmid clusters detected without plasmid preps included so just between Rapid and Ligation\n",
    "results = []\n",
    "    #make the model\n",
    "model = smf.ols('Corrected_Total_Plasmids ~ C(Sequencing_Kit)', data=mobsuitePP).fit()\n",
    "    #calculate anova. We use type 3 error correction in this paper.\n",
    "d = sm.stats.anova_lm(model, typ=3)\n",
    "    # We only care about the F statistic in this case. grab it.\n",
    "d = d[['PR(>F)']]\n",
    "results.append(d)\n",
    "#Compile the results into one dataframe\n",
    "all_r = results[0]\n",
    "for d in results[1:]:\n",
    "    all_r = all_r.join(d)\n",
    "all_r = all_r.dropna().iloc[1:].dropna()\n",
    "all_r"
   ]
  },
  {
   "cell_type": "code",
   "execution_count": 28,
   "id": "6f3382d0",
   "metadata": {},
   "outputs": [
    {
     "name": "stdout",
     "output_type": "stream",
     "text": [
      "p-value annotation legend:\n",
      "      ns: p <= 1.00e+00\n",
      "       *: 1.00e-02 < p <= 5.00e-02\n",
      "      **: 1.00e-03 < p <= 1.00e-02\n",
      "     ***: 1.00e-04 < p <= 1.00e-03\n",
      "    ****: p <= 1.00e-04\n",
      "\n",
      "Ligation vs. Rapid: t-test independent samples, P_val:7.076e-01 t=3.754e-01\n"
     ]
    },
    {
     "data": {
      "image/png": "[encoded data removed]",
      "text/plain": [
       "<Figure size 432x288 with 1 Axes>"
      ]
     },
     "metadata": {},
     "output_type": "display_data"
    }
   ],
   "source": [
    "\n",
    "\n",
    "pairs2=[('Ligation', 'Rapid')]\n",
    "states_subcat =[\"Ligation\", \"Rapid\"]\n",
    "\n",
    "state_palette = \"colorblind\"\n",
    "\n",
    "with sns.plotting_context('notebook', font_scale = 1.4): \n",
    "    #Create new plot \n",
    "    hue_plot_params = {'data': mobsuitePP, 'x': 'Sequencing_Kit', 'y': 'Corrected_Total_Plasmids', \"order\": states_subcat, \"palette\": state_palette}\n",
    "    ax = sns.stripplot(x=\"Sequencing_Kit\", y=\"Corrected_Total_Plasmids\", data=mobsuitePP, size=8, order=states_subcat, palette=['black','grey'])\n",
    "plt.xticks(rotation=45, ha=\"right\")\n",
    "\n",
    "\n",
    "# plot the mean line\n",
    "sns.boxplot(showmeans=True,\n",
    "            meanline=True,\n",
    "            meanprops={'color': 'k', 'ls': '-', 'lw': 2},\n",
    "            medianprops={'visible': False},\n",
    "            whiskerprops={'visible': False},\n",
    "            zorder=10,\n",
    "            x= \"Sequencing_Kit\",\n",
    "            y=\"Corrected_Total_Plasmids\",\n",
    "            data=mobsuitePP,\n",
    "            showfliers=False,\n",
    "            showbox=False,\n",
    "            showcaps=False,\n",
    "            order=states_subcat,\n",
    "            ax=ax)\n",
    "\n",
    "handles, labels = ax.get_legend_handles_labels()\n",
    "l = plt.legend(handles[0:3], labels[0:3], bbox_to_anchor=(1.05, 1), loc=2, borderaxespad=0.)\n",
    "\n",
    "#annotating with pairs\n",
    "annot = Annotator(ax, pairs2, **hue_plot_params)\n",
    "annot.configure(test='t-test_ind', verbose=2)\n",
    "annot.apply_test()\n",
    "annot.annotate()\n",
    "\n",
    "plt.savefig(\"12122022_EcoliPlasmidDetection_ligationvrapid.png\", dpi = 400, bbox_inches= \"tight\")"
   ]
  },
  {
   "cell_type": "code",
   "execution_count": 29,
   "id": "5a0d2def",
   "metadata": {},
   "outputs": [
    {
     "data": {
      "text/html": [
       "<div>\n",
       "<style scoped>\n",
       "    .dataframe tbody tr th:only-of-type {\n",
       "        vertical-align: middle;\n",
       "    }\n",
       "\n",
       "    .dataframe tbody tr th {\n",
       "        vertical-align: top;\n",
       "    }\n",
       "\n",
       "    .dataframe thead th {\n",
       "        text-align: right;\n",
       "    }\n",
       "</style>\n",
       "<table border=\"1\" class=\"dataframe\">\n",
       "  <thead>\n",
       "    <tr style=\"text-align: right;\">\n",
       "      <th></th>\n",
       "      <th>PR(&gt;F)</th>\n",
       "    </tr>\n",
       "  </thead>\n",
       "  <tbody>\n",
       "    <tr>\n",
       "      <th>C(Category)</th>\n",
       "      <td>0.562215</td>\n",
       "    </tr>\n",
       "  </tbody>\n",
       "</table>\n",
       "</div>"
      ],
      "text/plain": [
       "               PR(>F)\n",
       "C(Category)  0.562215"
      ]
     },
     "execution_count": 29,
     "metadata": {},
     "output_type": "execute_result"
    }
   ],
   "source": [
    "#One way ANOVA for overall effects of Assembly Type on total plasmid clusters detected\n",
    "results = []\n",
    "    #make the model\n",
    "model = smf.ols('Corrected_Total_Plasmids ~ C(Category)', data=mobsuitePP).fit()\n",
    "    #calculate anova. We use type 3 SS in this paper.\n",
    "d = sm.stats.anova_lm(model, typ=3)\n",
    "    # We only care about the F statistic in this case. grab it.\n",
    "d = d[['PR(>F)']]\n",
    "results.append(d)\n",
    "#Compile the results into one dataframe\n",
    "all_r = results[0]\n",
    "for d in results[1:]:\n",
    "    all_r = all_r.join(d)\n",
    "all_r = all_r.dropna().iloc[1:].dropna()\n",
    "all_r"
   ]
  },
  {
   "cell_type": "code",
   "execution_count": 30,
   "id": "dfd018f7",
   "metadata": {},
   "outputs": [
    {
     "name": "stdout",
     "output_type": "stream",
     "text": [
      "p-value annotation legend:\n",
      "      ns: p <= 1.00e+00\n",
      "       *: 1.00e-02 < p <= 5.00e-02\n",
      "      **: 1.00e-03 < p <= 1.00e-02\n",
      "     ***: 1.00e-04 < p <= 1.00e-03\n",
      "    ****: p <= 1.00e-04\n",
      "\n",
      "HLF vs. HLF_PP: t-test independent samples, P_val:3.642e-01 t=-9.191e-01\n",
      "HLUF vs. HLUF_PP: t-test independent samples, P_val:3.583e-01 t=-9.305e-01\n",
      "HRF vs. HRF_PP: t-test independent samples, P_val:5.207e-01 t=-6.487e-01\n",
      "HRUF vs. HRUF_PP: t-test independent samples, P_val:5.303e-01 t=-6.336e-01\n"
     ]
    },
    {
     "data": {
      "text/plain": [
       "(<AxesSubplot:xlabel='Category', ylabel='Corrected_Total_Plasmids'>,\n",
       " [<statannotations.Annotation.Annotation at 0x7f6525dcaf10>,\n",
       "  <statannotations.Annotation.Annotation at 0x7f6525c1ef70>,\n",
       "  <statannotations.Annotation.Annotation at 0x7f6525ba58e0>,\n",
       "  <statannotations.Annotation.Annotation at 0x7f6525ba5a30>])"
      ]
     },
     "execution_count": 30,
     "metadata": {},
     "output_type": "execute_result"
    },
    {
     "data": {
      "image/png": "[encoded data removed]",
      "text/plain": [
       "<Figure size 432x288 with 1 Axes>"
      ]
     },
     "metadata": {},
     "output_type": "display_data"
    }
   ],
   "source": [
    "pairs = [('HLF', 'HLF_PP'), ('HLUF', 'HLUF_PP'), ('HRF', 'HRF_PP'), ('HRUF', 'HRUF_PP'), ]\n",
    "states_subcat = ['HLF', 'HLF_PP', 'HLUF', 'HLUF_PP', 'HRF', 'HRF_PP', 'HRUF', 'HRUF_PP']\n",
    "state_palette = \"colorblind\"\n",
    "with sns.plotting_context('notebook', font_scale = 1.4): \n",
    "    #Create new plot \n",
    "    hue_plot_params = {'data': mobsuitePP,'x': 'Category', 'y': 'Corrected_Total_Plasmids', \"order\": states_subcat, \"palette\": state_palette} # Plot with seaborn\n",
    "    ax = sns.stripplot(x=\"Category\", y=\"Corrected_Total_Plasmids\", data=mobsuitePP, size=8, order=states_subcat)\n",
    "plt.xticks(rotation=45, ha=\"right\")\n",
    "\n",
    "\n",
    "# plot the mean line\n",
    "sns.boxplot(showmeans=True,\n",
    "            meanline=True,\n",
    "            meanprops={'color': 'k', 'ls': '-', 'lw': 2},\n",
    "            medianprops={'visible': False},\n",
    "            whiskerprops={'visible': False},\n",
    "            zorder=10,\n",
    "            x= \"Category\",\n",
    "            y=\"Corrected_Total_Plasmids\",\n",
    "            data=mobsuitePP,\n",
    "            showfliers=False,\n",
    "            showbox=False,\n",
    "            showcaps=False,\n",
    "            order=states_subcat,\n",
    "            ax=ax)\n",
    "\n",
    "handles, labels = ax.get_legend_handles_labels()\n",
    "l = plt.legend(handles[0:3], labels[0:3], bbox_to_anchor=(1.05, 1), loc=2, borderaxespad=0.)\n",
    "\n",
    "#annotating with pairs\n",
    "annot = Annotator(ax, pairs, **hue_plot_params)\n",
    "annot.configure(test='t-test_ind', verbose=2)\n",
    "annot.apply_test()\n",
    "annot.annotate()"
   ]
  },
  {
   "cell_type": "code",
   "execution_count": 31,
   "id": "b194f611",
   "metadata": {},
   "outputs": [
    {
     "name": "stdout",
     "output_type": "stream",
     "text": [
      "p-value annotation legend:\n",
      "      ns: p <= 1.00e+00\n",
      "       *: 1.00e-02 < p <= 5.00e-02\n",
      "      **: 1.00e-03 < p <= 1.00e-02\n",
      "     ***: 1.00e-04 < p <= 1.00e-03\n",
      "    ****: p <= 1.00e-04\n",
      "\n",
      "LLF vs. LLF_PP: t-test independent samples, P_val:2.724e-01 t=-1.115e+00\n",
      "LLFM vs. LLFM_PP: t-test independent samples, P_val:2.254e-01 t=-1.235e+00\n",
      "LLFMP vs. LLFMP_PP: t-test independent samples, P_val:2.724e-01 t=-1.115e+00\n",
      "LLUFM vs. LLUFM_PP: t-test independent samples, P_val:2.687e-01 t=-1.123e+00\n",
      "LLUFMP vs. LLUFMP_PP: t-test independent samples, P_val:2.687e-01 t=-1.123e+00\n",
      "LRF vs. LRF_PP: t-test independent samples, P_val:7.955e-02 t=-1.803e+00\n",
      "LRFM vs. LRFM_PP: t-test independent samples, P_val:5.203e-02 t=-2.011e+00\n",
      "LRFMP vs. LRFMP_PP: t-test independent samples, P_val:9.255e-02 t=-1.728e+00\n",
      "LRUF vs. LRUF_PP: t-test independent samples, P_val:4.486e-01 t=-7.661e-01\n",
      "LRUFM vs. LRUFM_PP: t-test independent samples, P_val:3.345e-01 t=-9.782e-01\n",
      "LRUFMP vs. LRUFMP_PP: t-test independent samples, P_val:3.890e-01 t=-8.720e-01\n",
      "LLUF vs. LLUF_PP: t-test independent samples, P_val:2.687e-01 t=-1.123e+00\n"
     ]
    },
    {
     "data": {
      "text/plain": [
       "(<AxesSubplot:xlabel='Category', ylabel='Corrected_Total_Plasmids'>,\n",
       " [<statannotations.Annotation.Annotation at 0x7f6525bcbeb0>,\n",
       "  <statannotations.Annotation.Annotation at 0x7f6525b90e20>,\n",
       "  <statannotations.Annotation.Annotation at 0x7f6525b2b910>,\n",
       "  <statannotations.Annotation.Annotation at 0x7f6525b2b4c0>,\n",
       "  <statannotations.Annotation.Annotation at 0x7f6525b2b4f0>,\n",
       "  <statannotations.Annotation.Annotation at 0x7f6525b2b8b0>,\n",
       "  <statannotations.Annotation.Annotation at 0x7f6525b2b3d0>,\n",
       "  <statannotations.Annotation.Annotation at 0x7f6525afc640>,\n",
       "  <statannotations.Annotation.Annotation at 0x7f6525afc5e0>,\n",
       "  <statannotations.Annotation.Annotation at 0x7f6525afc7f0>,\n",
       "  <statannotations.Annotation.Annotation at 0x7f6525afc8b0>,\n",
       "  <statannotations.Annotation.Annotation at 0x7f6525afc970>])"
      ]
     },
     "execution_count": 31,
     "metadata": {},
     "output_type": "execute_result"
    },
    {
     "data": {
      "image/png": "[encoded data removed]",
      "text/plain": [
       "<Figure size 432x288 with 1 Axes>"
      ]
     },
     "metadata": {},
     "output_type": "display_data"
    }
   ],
   "source": [
    "pairs = [('LLF', 'LLF_PP'), ('LLFM', 'LLFM_PP'), ('LLFMP','LLFMP_PP'), ('LLUF', 'LLUF_PP'), ('LLUFM', 'LLUFM_PP'), ('LLUFMP', 'LLUFMP_PP'), ('LRF', 'LRF_PP'), ('LRFM', 'LRFM_PP'), ('LRFMP', 'LRFMP_PP'), ('LRUF', 'LRUF_PP'), ('LRUFM', 'LRUFM_PP'), ('LRUFMP', 'LRUFMP_PP')]\n",
    "states_subcat = ['LLF', 'LLF_PP', 'LLFM', 'LLFM_PP', 'LLFMP', 'LLFMP_PP', 'LLUF', 'LLUFM', 'LLUFM_PP', 'LLUF_PP', 'LLUFMP', 'LLUFMP_PP', 'LRF', 'LRF_PP', 'LRFM', 'LRFM_PP', 'LRFMP', 'LRFMP_PP', 'LRUF', 'LRUF_PP', 'LRUFM', 'LRUFM_PP', 'LRUFMP', 'LRUFMP_PP']\n",
    "state_palette = \"colorblind\"\n",
    "with sns.plotting_context('notebook', font_scale = 1.0): \n",
    "    #Create new plot \n",
    "    hue_plot_params = {'data': mobsuitePP,'x': 'Category', 'y': 'Corrected_Total_Plasmids', \"order\": states_subcat, \"palette\": state_palette} # Plot with seaborn\n",
    "    ax = sns.stripplot(x=\"Category\", y=\"Corrected_Total_Plasmids\", data=mobsuitePP, size=8, order=states_subcat)\n",
    "plt.xticks(rotation=45, ha=\"right\")\n",
    "\n",
    "\n",
    "# plot the mean line\n",
    "sns.boxplot(showmeans=True,\n",
    "            meanline=True,\n",
    "            meanprops={'color': 'k', 'ls': '-', 'lw': 2},\n",
    "            medianprops={'visible': False},\n",
    "            whiskerprops={'visible': False},\n",
    "            zorder=10,\n",
    "            x= \"Category\",\n",
    "            y=\"Corrected_Total_Plasmids\",\n",
    "            data=mobsuitePP,\n",
    "            showfliers=False,\n",
    "            showbox=False,\n",
    "            showcaps=False,\n",
    "            order=states_subcat,\n",
    "            ax=ax)\n",
    "\n",
    "handles, labels = ax.get_legend_handles_labels()\n",
    "l = plt.legend(handles[0:3], labels[0:3], bbox_to_anchor=(1.05, 1), loc=2, borderaxespad=0.)\n",
    "\n",
    "#annotating with pairs\n",
    "annot = Annotator(ax, pairs, **hue_plot_params)\n",
    "annot.configure(test='t-test_ind', verbose=2)\n",
    "annot.apply_test()\n",
    "annot.annotate()\n"
   ]
  },
  {
   "cell_type": "code",
   "execution_count": 32,
   "id": "298250ee",
   "metadata": {},
   "outputs": [
    {
     "name": "stdout",
     "output_type": "stream",
     "text": [
      "p-value annotation legend:\n",
      "      ns: p <= 1.00e+00\n",
      "       *: 1.00e-02 < p <= 5.00e-02\n",
      "      **: 1.00e-03 < p <= 1.00e-02\n",
      "     ***: 1.00e-04 < p <= 1.00e-03\n",
      "    ****: p <= 1.00e-04\n",
      "\n",
      "Unpolished vs. Medaka: t-test independent samples, P_val:7.140e-01 t=-3.672e-01\n",
      "Medaka vs. Medaka_Pilon: t-test independent samples, P_val:8.564e-01 t=-1.813e-01\n",
      "Unpolished vs. Medaka_Pilon: t-test independent samples, P_val:5.810e-01 t=-5.532e-01\n"
     ]
    },
    {
     "data": {
      "image/png": "[encoded data removed]",
      "text/plain": [
       "<Figure size 432x288 with 1 Axes>"
      ]
     },
     "metadata": {},
     "output_type": "display_data"
    }
   ],
   "source": [
    "\n",
    "#figure to show differences in plasmid size based on Assembly Condition (long reads filtered or unfiltered) showing only difference between assemblies and plasmid extractions \n",
    "import itertools as it\n",
    "from statannotations.Annotator import Annotator\n",
    "import matplotlib.pyplot as plt\n",
    "import seaborn as sns\n",
    "\n",
    "pairs1=((\"Unpolished\", \"Medaka\"), (\"Unpolished\", \"Medaka_Pilon\"), (\"Medaka\", \"Medaka_Pilon\"))\n",
    "states_subcat =[\"Unpolished\", \"Medaka\", \"Medaka_Pilon\"]\n",
    "state_palette = \"colorblind\"\n",
    "\n",
    "with sns.plotting_context('notebook', font_scale = 1.4): \n",
    "    #Create new plot \n",
    "    hue_plot_params = {'data': mobsuitenoPP,'x': 'Polishing', 'y': 'Corrected_Total_Plasmids', \"order\": states_subcat, \"palette\": state_palette} # Plot with seaborn\n",
    "    ax = sns.stripplot(x=\"Polishing\", y=\"Corrected_Total_Plasmids\", data=mobsuitenoPP, size=8, order=states_subcat, palette=['black','lightgray','dimgrey'])\n",
    "plt.xticks(rotation=45, ha=\"right\")\n",
    "\n",
    "\n",
    "# plot the mean line\n",
    "g = sns.boxplot(showmeans=True,\n",
    "            meanline=True,\n",
    "            meanprops={'color': 'k', 'ls': '-', 'lw': 2},\n",
    "            medianprops={'visible': False},\n",
    "            whiskerprops={'visible': False},\n",
    "            zorder=10,\n",
    "            x= \"Polishing\",\n",
    "            y=\"Corrected_Total_Plasmids\",\n",
    "            data=mobsuitenoPP,\n",
    "            showfliers=False,\n",
    "            showbox=False,\n",
    "            showcaps=False,\n",
    "            order=states_subcat,\n",
    "            ax=ax)\n",
    "g.set(xlabel=None)\n",
    "handles, labels = ax.get_legend_handles_labels()\n",
    "l = plt.legend(handles[0:3], labels[0:3], bbox_to_anchor=(1.05, 1), loc=2, borderaxespad=0.)\n",
    "\n",
    "#annotating with pairs\n",
    "annot = Annotator(ax, pairs1, **hue_plot_params)\n",
    "annot.configure(test='t-test_ind', verbose=2)\n",
    "annot.apply_test()\n",
    "annot.annotate()\n",
    "plt.savefig(\"12122022_EcoliPlasmidDetection_polishingimpact.png\", dpi = 400, bbox_inches= \"tight\")"
   ]
  },
  {
   "cell_type": "code",
   "execution_count": null,
   "id": "21fc9b35",
   "metadata": {},
   "outputs": [],
   "source": []
  },
  {
   "cell_type": "code",
   "execution_count": null,
   "id": "6bf62898",
   "metadata": {},
   "outputs": [],
   "source": []
  },
  {
   "cell_type": "code",
   "execution_count": null,
   "id": "c1acd24e",
   "metadata": {},
   "outputs": [],
   "source": []
  },
  {
   "cell_type": "code",
   "execution_count": null,
   "id": "045c4d4e",
   "metadata": {},
   "outputs": [],
   "source": []
  }
 ],
 "metadata": {
  "kernelspec": {
   "display_name": "Python 3 (ipykernel)",
   "language": "python",
   "name": "python3"
  },
  "language_info": {
   "codemirror_mode": {
    "name": "ipython",
    "version": 3
   },
   "file_extension": ".py",
   "mimetype": "text/x-python",
   "name": "python",
   "nbconvert_exporter": "python",
   "pygments_lexer": "ipython3",
   "version": "3.9.7"
  }
 },
 "nbformat": 4,
 "nbformat_minor": 5
}
